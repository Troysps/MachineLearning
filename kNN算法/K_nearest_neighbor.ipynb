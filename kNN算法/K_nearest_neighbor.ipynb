{
 "cells": [
  {
   "cell_type": "markdown",
   "metadata": {},
   "source": [
    "# KNN算法"
   ]
  },
  {
   "cell_type": "markdown",
   "metadata": {},
   "source": [
    "## 概述"
   ]
  },
  {
   "cell_type": "markdown",
   "metadata": {},
   "source": [
    "### KNN算法：即最邻近分类算法（K-NearestNeighbor\n",
    "#### 算法思路：如果一个样本在特征空间中的k个最相似（即特征空间中最临近）的样本中的大多数属于某一个类别 则该样本也属于这个类别 k通常是不大于20的整数 KNN算法中 所选择的邻居都是已经正确分类的对象 该方法在定义决策上只依据最邻近的一个或几个样本的类别来决定待分样本所属的类别"
   ]
  },
  {
   "attachments": {
    "image.png": {
     "image/png": "[encoded data removed]"
    }
   },
   "cell_type": "markdown",
   "metadata": {},
   "source": [
    "![image.png](attachment:image.png)"
   ]
  },
  {
   "cell_type": "markdown",
   "metadata": {},
   "source": [
    "#### 如上所示"
   ]
  },
  {
   "cell_type": "markdown",
   "metadata": {},
   "source": [
    "#### 绿色圆要被决定赋予哪个类，是红色三角形还是蓝色四方形？如果K=3，由于红色三角形所占比例为2/3，绿色圆将被赋予红色三角形那个类，如果K=5，由于蓝色四方形比例为3/5，因此绿色圆被赋予蓝色四方形类。由此也说明了KNN算法的结果很大程度取决于K的选择。"
   ]
  },
  {
   "cell_type": "markdown",
   "metadata": {},
   "source": [
    "#### 在kNN中，计算对象之间的距离通常使用欧氏距离。比如若是求二维平面的欧氏距离，则公式为d = sqrt[(x1 - x2)^2 + (y1 - y2)^2]"
   ]
  },
  {
   "cell_type": "markdown",
   "metadata": {},
   "source": [
    "#### KNN算法思路总结：就是在训练集中数据和标签已知的情况下，输入测试数据 将测试数据的特征与训练集中对应的特征进行相互比较 找到训练集中与之最为相似的前K个数据 则该测试数据对应的类别就是K个数据中出现次数最多的那个分类 其算法的描述为："
   ]
  },
  {
   "cell_type": "markdown",
   "metadata": {},
   "source": [
    "#### 1. 计算测试数据与各个训练数据之间的距离\n",
    "#### 2. 按照距离的递增关系进行排序\n",
    "#### 3. 选取距离最小的K个点\n",
    "#### 4. 确定前K个点所在类别的出现频率\n",
    "#### 5. 返回前K个点中出现频率最高的类别作为测试数据的预测分类"
   ]
  },
  {
   "cell_type": "code",
   "execution_count": 10,
   "metadata": {},
   "outputs": [
    {
     "data": {
      "text/plain": [
       "array([2])"
      ]
     },
     "execution_count": 10,
     "metadata": {},
     "output_type": "execute_result"
    }
   ],
   "source": [
    "import numpy as np\n",
    "from sklearn import neighbors\n",
    "knn = neighbors.KNeighborsClassifier() #取得 knn 分类器\n",
    "data = np.array([[3,104],[2,100],[1,81],[101,10],[99,5],[98,2]]) # <span style=\"font-family:Arial, Helvetica, sans-serif;\">data 对应着\n",
    "#打斗次数和接吻次数</span>\n",
    "labels = np.array([1,1,1,2,2,2]) #<span style=\"font-family:Arial, Helvetica, sans-serif;\">labels 则是对应 Romance 和 Action</span>\n",
    "knn.fit(data,labels) #导入数据进行训练'''\n",
    "#Out：KNeighborsClassifier(algorithm='auto', leaf_size=30, metric='minkowski',\n",
    "#metric_params=None, n_jobs=1, n_neighbors=5, p=2,weights='uniform')\n",
    "knn.predict([[100,20]])"
   ]
  },
  {
   "cell_type": "markdown",
   "metadata": {},
   "source": [
    "### 使用Python编写kNN算法"
   ]
  },
  {
   "cell_type": "code",
   "execution_count": 23,
   "metadata": {},
   "outputs": [
    {
     "name": "stdout",
     "output_type": "stream",
     "text": [
      "Test data: [ 1.1  0.3] classify result: A\n"
     ]
    }
   ],
   "source": [
    "# coding:utf-8\n",
    "import numpy as np\n",
    "import operator\n",
    "\n",
    "# 给出训练数据以及对应的类别\n",
    "def createDataSet():\n",
    "    group = np.array([[1.0,2.0],[1.2,0.1],[0.1,1.4],[0.3,3.5]])\n",
    "    labels = ['A','A','B','B']\n",
    "    return group,labels\n",
    "\n",
    "# 通过KNN进行分类\n",
    "def classify(input,dataSet,label,k):\n",
    "    dataSize = dataSet.shape[0]\n",
    "    \"\"\"\n",
    "    shape是numpy函数库中的方法，用于查看矩阵或者数组的维素\n",
    "    shape(array)若矩阵有m行n列，则返回(m,n)\n",
    "    array.shape[0]返回矩阵的行数m，array.shape[1]返回矩阵的列数n\n",
    "    \"\"\"\n",
    "    \n",
    "    # 计算欧氏距离\n",
    "    diff = np.tile(input,(dataSize,1)) - dataSet\n",
    "    \"\"\"\n",
    "    tile()是numpy函数库中的方法，作用是数组沿各维度重复自己\n",
    "    reps的数字从后往前分别对应A的第N个维度的重复次数\n",
    "    tile(A,(2,2,3))\n",
    "    A的第一个维度重复3遍，得到[1,2,1,2,1,2]。在此基础上，第二个维度重复2遍，得到[[1,2,1,2,1,2], [1,2,1,2,1,2]]。在此基础上，第三个维度重复2遍，得到[[[1,2,1,2,1,2], [1,2,1,2,1,2]], [[1,2,1,2,1,2], [1,2,1,2,1,2]]]\n",
    "    \"\"\"\n",
    "    sqDiff = diff ** 2\n",
    "    sqDiffSum = np.sum(sqDiff,axis = 1) #行向量分别相加，从而得到新的一个行向量\n",
    "    \"\"\"\n",
    "    sum()是numpy函数库中的方法\n",
    "    array.sum(axis=1)按行累加，array.sum(axis=0)按列累加\n",
    "    \"\"\"\n",
    "    dist = sqDiffSum ** 0.5\n",
    "    \n",
    "    # 对距离进行排序，按从小到大的规则\n",
    "    sortedDistIndex = np.argsort(dist)\n",
    "    \"\"\"\n",
    "    argsort()是numpy中的方法，得到排序后新矩阵中每个元素对应于该元素在未排序前旧矩阵中的位置。\n",
    "    例：A = [3, 1, 2]，则argsort(A) = [1, 2, 0]。因为排序后A’= [1, 2, 3]，”1”是A的第1个元素，”2”是A的第2个元素，”3”是A的第0个元素，所以结果为[1, 2, 0]\n",
    "    \"\"\"\n",
    "\n",
    "    classCount={}\n",
    "    for i in range(k):\n",
    "        voteLabel = label[sortedDistIndex[i]]\n",
    "        # 对选取的K个样本所属的类别个数进行统计\n",
    "        classCount[voteLabel] = classCount.get(voteLabel,0) + 1\n",
    "        \"\"\"\n",
    "        dict.get(key, default=None)是python中的方法，default表示假如指定的键不存在的话，返回的默认值。\n",
    "        例：dict d={‘age’, 20}，则d.get(‘age’,0) = 20, d.get(‘name’, 0) = 0\n",
    "        \"\"\"\n",
    "        \n",
    "    # 选取出现的类别次数最多的类别\n",
    "    maxCount = 0\n",
    "    for key,value in classCount.items():\n",
    "        if value > maxCount:\n",
    "            maxCount = value\n",
    "            classes = key\n",
    "\n",
    "    return classes\n",
    "\n",
    "def test():\n",
    "    dataSet,labels = createDataSet()\n",
    "    input = array([1.1,0.3])\n",
    "    K = 3\n",
    "    output = classify(input,dataSet,labels,K)\n",
    "    print(\"Test data:\",input,\"classify result:\",output)\n",
    "test()                  "
   ]
  },
  {
   "cell_type": "markdown",
   "metadata": {},
   "source": [
    "###四、程序分析\n",
    "（一）这里训练集为\n",
    "[[1.0, 2.0],\n",
    "[1.2, 0.1],\n",
    "[0.1, 1.4],\n",
    "[0.3, 3.5]]\n",
    "训练集中的4个元素分别对应于类别A, A, B, B\n",
    "可将训练集中的四个元素看做四个点：\n",
    "x0(1.0, 2.0), x1(1.2, 0.1), x2(0.1, 1.4), x3(0.3, 3.5)\n",
    "测试点为x(1.1, 0.3)\n",
    "\n",
    "（二）classify()函数逐行分析\n",
    "dataSize = 4（行数）\n",
    "tile(input, (4, 1)) =\n",
    "[[1.1, 0.3],\n",
    "[1.1, 0.3],\n",
    "[1.1, 0.3],\n",
    "[1.1, 0.3]]\n",
    "\n",
    "tile(input, (4, 1) - dataSet =\n",
    "[[ 0.1, -1.7],\n",
    "[-0.1, 0.2],\n",
    "[1, -1.1],\n",
    "[0.8, -3.2]]\n",
    "这里每行中的两个数，表示\n",
    "x - x0 = 0.1， y - y0 = -1.7\n",
    "x - x1 = -0.1， y - y1 = 0.2\n",
    "x - x2 = 1， y - y2 = -1.1\n",
    "x - x3 = 0.8， y - y3 = -3.2\n",
    "\n",
    "sqDiff =\n",
    "[[0.01, 2.89],\n",
    "[0.01, 0.04],\n",
    "[1, 1.21],\n",
    "[0.64, 10.24]\n",
    "这些数据的意义为\n",
    "(x - x0)^2 = 0.01, (y - y0)^2 = 2.89\n",
    "(x - x1)^2 = 0.01, (y - y1)^2 = 0.04\n",
    "(x - x2)^2 = 1, (y - y2)^2 = 1.21\n",
    "(x - x3)^2 = 0.64, (y - y3)^2 = 10.24\n",
    "\n",
    "sqDiffSum =\n",
    "[2.9,\n",
    "0.05,\n",
    "2.21,\n",
    "10.88]\n",
    "这里每个元素就代表每个点与x0的距离的平方，即\n",
    "d0^2 = (x - x0)^2 + (y - y0)^2 = 2.9\n",
    "d1^2 = (x - x1)^2 + (y - y1)^2 = 0.05\n",
    "d2^3 = (x - x2)^2 + (y - y2)^2 = 2.21\n",
    "d3^4 = (x - x3)^2 + (y - y3)^2 = 10.88\n",
    "\n",
    "dist =\n",
    "[1.70293864,\n",
    "0.2236068,\n",
    "1.48660687,\n",
    "3.2984845]\n",
    "这里每个元素代表每个点与x0的距离，即\n",
    "d0 = 1.70293864\n",
    "d1 = 0.2236068\n",
    "d2 = 1.48660687\n",
    "d3 = 3.2984845\n",
    "\n",
    "sortedDistIndex = [1, 2, 0, 3]，表示\n",
    "最小的距离位于dist中的第1个位置，即d1\n",
    "次小的距离的位于dist中的第2个位置，即d2\n",
    "第三小的距离位于dist中的第0个位置，即d0\n",
    "最大距离位于dist中的第3位置，即d3\n",
    "\n",
    "第一个for循环中，\n",
    "for 0 in range(3)\n",
    "voteLabel = label[1] = ‘A’\n",
    "classCount[‘A’] = 1\n",
    "for 1 in range(3)\n",
    "voteLabel = label[2] = ‘B’\n",
    "classCount[‘B’] = 1\n",
    "for 2 in range(3)\n",
    "voteLabel = labe[0] = ‘A’\n",
    "classCount[‘A’] = 2\n",
    "所以，字典classCount中的值为{‘A’:2, ‘B’:1}。\n",
    "\n",
    "第二个for循环中，\n",
    "for ‘A’,2 in classCount\n",
    "value = 2, maxCount = 0, if条件成立\n",
    "maxCount = 2, classes = ‘A’\n",
    "for ‘B’,1 in classCount\n",
    "value = 1, maxCount = 2, if条件不成立。循环结束。\n",
    "\n",
    "最终，返回classes=’A’"
   ]
  },
  {
   "cell_type": "code",
   "execution_count": null,
   "metadata": {
    "collapsed": true
   },
   "outputs": [],
   "source": []
  }
 ],
 "metadata": {
  "kernelspec": {
   "display_name": "Python 3",
   "language": "python",
   "name": "python3"
  },
  "language_info": {
   "codemirror_mode": {
    "name": "ipython",
    "version": 3
   },
   "file_extension": ".py",
   "mimetype": "text/x-python",
   "name": "python",
   "nbconvert_exporter": "python",
   "pygments_lexer": "ipython3",
   "version": "3.6.1"
  }
 },
 "nbformat": 4,
 "nbformat_minor": 2
}
