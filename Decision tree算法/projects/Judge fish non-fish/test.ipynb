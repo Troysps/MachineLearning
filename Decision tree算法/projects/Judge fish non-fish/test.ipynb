{
 "cells": [
  {
   "cell_type": "code",
   "execution_count": null,
   "metadata": {
    "collapsed": true
   },
   "outputs": [],
   "source": [
    "# !/usr/bin/env python3\n",
    "# -*- coding: utf-8 -*-\n",
    "\"\"\"\n",
    "Projects: Judge fish non-fish\n",
    "\"\"\"\n",
    "from math import log\n",
    "import operator"
   ]
  },
  {
   "cell_type": "code",
   "execution_count": 158,
   "metadata": {
    "collapsed": true
   },
   "outputs": [],
   "source": [
    "def createDataSet():\n",
    "    dataSet = [[1, 1, 'yes'],\n",
    "            [1, 1, 'yes'],\n",
    "            [1, 0, 'no'],\n",
    "            [0, 1, 'no'],\n",
    "            [0, 1, 'no']]\n",
    "    labels = ['no surfacing', 'flippers']\n",
    "    return dataSet, labels"
   ]
  },
  {
   "cell_type": "code",
   "execution_count": 159,
   "metadata": {},
   "outputs": [
    {
     "data": {
      "text/plain": [
       "([[1, 1, 'yes'], [1, 1, 'yes'], [1, 0, 'no'], [0, 1, 'no'], [0, 1, 'no']],\n",
       " ['no surfacing', 'flippers'])"
      ]
     },
     "execution_count": 159,
     "metadata": {},
     "output_type": "execute_result"
    }
   ],
   "source": [
    "dataSet, labels = createDataSet()\n",
    "dataSet, labels"
   ]
  },
  {
   "cell_type": "code",
   "execution_count": 160,
   "metadata": {},
   "outputs": [],
   "source": [
    "def calcShonnonEntropy(dataSet):\n",
    "    num_datas = len(dataSet)\n",
    "    classCount = {}\n",
    "    for i in dataSet:\n",
    "        votelabels = i[-1]\n",
    "        classCount[votelabels] = classCount.get(votelabels, 0) + 1\n",
    "    shonnonEnt = 0.0\n",
    "    for key in classCount.keys():\n",
    "        prob = int(classCount[key]) / float(num_datas)\n",
    "        shonnonEnt -= prob * log(prob, 2)\n",
    "    return shonnonEnt"
   ]
  },
  {
   "cell_type": "code",
   "execution_count": 161,
   "metadata": {},
   "outputs": [
    {
     "data": {
      "text/plain": [
       "0.9709505944546686"
      ]
     },
     "execution_count": 161,
     "metadata": {},
     "output_type": "execute_result"
    }
   ],
   "source": [
    "calcShonnonEntropy(dataSet)"
   ]
  },
  {
   "cell_type": "code",
   "execution_count": 162,
   "metadata": {},
   "outputs": [
    {
     "data": {
      "text/plain": [
       "[[1, 'yes'], [1, 'yes'], [0, 'no']]"
      ]
     },
     "execution_count": 162,
     "metadata": {},
     "output_type": "execute_result"
    }
   ],
   "source": [
    "def splitDataSet(dataSet, index, value):\n",
    "    splitData = []\n",
    "    for i in dataSet:\n",
    "        if i[index] == value:\n",
    "            reduceFeatVec = i[:index]\n",
    "            reduceFeatVec.extend(i[index+1:])\n",
    "            splitData.append(reduceFeatVec)\n",
    "    return splitData\n",
    "splitDataSet(dataSet, 0, 1)"
   ]
  },
  {
   "cell_type": "code",
   "execution_count": 163,
   "metadata": {},
   "outputs": [
    {
     "name": "stdout",
     "output_type": "stream",
     "text": [
      "0.9709505944546686\n"
     ]
    },
    {
     "data": {
      "text/plain": [
       "0"
      ]
     },
     "execution_count": 163,
     "metadata": {},
     "output_type": "execute_result"
    }
   ],
   "source": [
    "def chooseBestFeatureTosplit_Gain(dataSet):\n",
    "    ent = calcShonnonEntropy(dataSet)\n",
    "    print(ent)\n",
    "    baseinfoGain = 0.0\n",
    "    bestFeat = -1\n",
    "    num_feats = len(dataSet[0]) - 1\n",
    "    for i in range(num_feats):\n",
    "        featLists = [example[i] for example in dataSet]\n",
    "        uniqueFeats = set(featLists)\n",
    "        newEntropy = 0\n",
    "        for value in uniqueFeats:\n",
    "            subsplitdata = splitDataSet(dataSet, i, value)\n",
    "            prob = len(subsplitdata) / len(dataSet)\n",
    "            newEntropy += prob * calcShonnonEntropy(subsplitdata)\n",
    "        infoGain = ent - newEntropy\n",
    "        if infoGain > baseinfoGain:\n",
    "            baseinfoGain = infoGain\n",
    "            bestFeat = i\n",
    "    return bestFeat\n",
    "chooseBestFeatureTosplit_Gain(dataSet)"
   ]
  },
  {
   "cell_type": "code",
   "execution_count": 164,
   "metadata": {},
   "outputs": [
    {
     "name": "stdout",
     "output_type": "stream",
     "text": [
      "0.9709505944546686\n"
     ]
    },
    {
     "data": {
      "text/plain": [
       "0"
      ]
     },
     "execution_count": 164,
     "metadata": {},
     "output_type": "execute_result"
    }
   ],
   "source": [
    "def chooseBestFeatureTosplit_Gain(dataSet):\n",
    "    num_feats = len(dataSet[0]) - 1\n",
    "    ent = calcShonnonEntropy(dataSet)\n",
    "    print(ent)\n",
    "    baseinfoGain = 0.0\n",
    "    bestFeat = -1\n",
    "    for i in range(num_feats):\n",
    "        featList = [example[i] for example in dataSet]\n",
    "        uniqueFeat = set(featList)\n",
    "        newEntropy = 0\n",
    "        for n in uniqueFeat:\n",
    "            subDataSet = splitDataSet(dataSet, i, n)\n",
    "            prob = len(subDataSet) / len(dataSet)\n",
    "            newEntropy += prob * calcShonnonEntropy(subDataSet)\n",
    "        infoGain = ent - newEntropy\n",
    "        if infoGain > baseinfoGain:\n",
    "            baseinfoGain = infoGain\n",
    "            bestFeat = i\n",
    "    return bestFeat\n",
    "chooseBestFeatureTosplit_Gain(dataSet)"
   ]
  },
  {
   "cell_type": "code",
   "execution_count": 165,
   "metadata": {},
   "outputs": [
    {
     "name": "stdout",
     "output_type": "stream",
     "text": [
      "0.9709505944546686\n"
     ]
    },
    {
     "data": {
      "text/plain": [
       "0"
      ]
     },
     "execution_count": 165,
     "metadata": {},
     "output_type": "execute_result"
    }
   ],
   "source": [
    "def chooseBestFeatureTosplit_GainRatio(dataSet):\n",
    "    num_feats = len(dataSet[0]) - 1\n",
    "    ent = calcShonnonEntropy(dataSet)\n",
    "    print(ent)\n",
    "    baseinfoGainRatio = 0.0\n",
    "    bestFeat = -1\n",
    "    for i in range(num_feats):\n",
    "        featList = [example[i] for example in dataSet]\n",
    "        uniqueFeat = set(featList)\n",
    "        newEntropy = 0\n",
    "        iv = 0\n",
    "        for n in uniqueFeat:\n",
    "            subDataSet = splitDataSet(dataSet, i, n)\n",
    "            prob = len(subDataSet) / len(dataSet)\n",
    "            iv -= prob * log(prob, 2)\n",
    "            newEntropy += prob * calcShonnonEntropy(subDataSet)\n",
    "        infoGain = ent - newEntropy\n",
    "        GainRatio = infoGain / iv\n",
    "        if GainRatio > baseinfoGainRatio:\n",
    "            baseinfoGainRatio = GainRatio\n",
    "            bestFeat = i\n",
    "    return bestFeat\n",
    "chooseBestFeatureTosplit_GainRatio(dataSet)"
   ]
  },
  {
   "cell_type": "markdown",
   "metadata": {},
   "source": [
    "#### 创建树"
   ]
  },
  {
   "cell_type": "markdown",
   "metadata": {},
   "source": [
    "![image.png](attachment:image.png)"
   ]
  },
  {
   "cell_type": "code",
   "execution_count": 166,
   "metadata": {
    "collapsed": true
   },
   "outputs": [],
   "source": [
    "def majorityCnt(classList):\n",
    "    classCount = {}\n",
    "    for vote in classList:\n",
    "        classCount[vote] = classCount.get(vote, 0) + 1\n",
    "    sortedclassCount = sorted(classCount.items(), key=operator.itemgetter, reverse=True)\n",
    "    return sortedclassCount[0][0]"
   ]
  },
  {
   "cell_type": "code",
   "execution_count": 167,
   "metadata": {},
   "outputs": [
    {
     "name": "stdout",
     "output_type": "stream",
     "text": [
      "0.9709505944546686\n",
      "0\n",
      "0.9182958340544896\n",
      "0\n"
     ]
    },
    {
     "data": {
      "text/plain": [
       "dict_keys(['no surfacing'])"
      ]
     },
     "execution_count": 167,
     "metadata": {},
     "output_type": "execute_result"
    }
   ],
   "source": [
    "def creatBranch(dataSet, labels):\n",
    "    classList = [example[-1] for example in dataSet]\n",
    "    classList\n",
    "    # 检测数据集中的所有数据的分类标签是否相同\n",
    "    if classList.count(classList[0]) == len(classList):\n",
    "        return classList[0]\n",
    "    # 使用完了所有特征 仍然不能将数据集划分为仅包含唯一类别的分组\n",
    "    if len(dataSet[0]) == 1:\n",
    "        return majorityCnt(classList)\n",
    "    # 选择最优的列\n",
    "    bestFeat = chooseBestFeatureTosplit_Gain(dataSet)\n",
    "    print(bestFeat)\n",
    "    # 获取列的名称\n",
    "    bestFeatLabel = labels[bestFeat]\n",
    "    # 初始化myTree\n",
    "    myTree = {bestFeatLabel : {}}\n",
    "    del labels[bestFeat]\n",
    "    # 取出最优列，然后它的branch做分类\n",
    "    featValues = [example[bestFeat] for example in dataSet]\n",
    "    uniqueVals = set(featValues)\n",
    "    for value in uniqueVals:\n",
    "        sublabels = labels[:]\n",
    "        myTree[bestFeatLabel][value] = creatBranch(splitDataSet(dataSet, bestFeat, value), sublabels)\n",
    "    return myTree\n",
    "inputTree = creatBranch(dataSet, labels)\n",
    "inputTree.keys()"
   ]
  },
  {
   "cell_type": "markdown",
   "metadata": {},
   "source": [
    "#### 使用决策树"
   ]
  },
  {
   "cell_type": "code",
   "execution_count": 176,
   "metadata": {
    "collapsed": true
   },
   "outputs": [],
   "source": [
    "def classify(inputTree, featLabels, testVec):\n",
    "    \"\"\"\n",
    "    inputTree: 决策树模型\n",
    "    featLabels: 标签对应名称\n",
    "    testVec: 输入数据\n",
    "    \"\"\"\n",
    "    # 获取tree的根节点对应于key的值\n",
    "    firstStr = list(inputTree.keys())[0]\n",
    "    print(firstStr)\n",
    "    # 通过key得到根节点对应的value\n",
    "    secondDict = inputTree[firstStr]\n",
    "    print(secondDict)\n",
    "    # 判断根节点名称 获取根节点在label中的先后顺序\n",
    "    print(featLabels)\n",
    "    featIndex = featLabels.index(firstStr)\n",
    "    # 测试数据\n",
    "    key = testVec[featIndex]\n",
    "    valueOFfet = secondDict[key]\n",
    "    # 判断分支是否结束\n",
    "    if isinstance(valueOFfet, dict):\n",
    "        classLabel = classify(valueOFfet, featLabels, testVec)\n",
    "    else:\n",
    "        classLabel = valueOFfet\n",
    "    return classLabel"
   ]
  },
  {
   "cell_type": "code",
   "execution_count": 177,
   "metadata": {},
   "outputs": [
    {
     "name": "stdout",
     "output_type": "stream",
     "text": [
      "no surfacing\n",
      "{0: 'no', 1: {'flippers': {0: 'no', 1: 'yes'}}}\n",
      "['no surfacing', 'flippers']\n",
      "flippers\n",
      "{0: 'no', 1: 'yes'}\n",
      "['no surfacing', 'flippers']\n"
     ]
    },
    {
     "data": {
      "text/plain": [
       "'yes'"
      ]
     },
     "execution_count": 177,
     "metadata": {},
     "output_type": "execute_result"
    }
   ],
   "source": [
    "classify(inputTree, ['no surfacing', 'flippers'], [1, 1])"
   ]
  },
  {
   "cell_type": "code",
   "execution_count": 175,
   "metadata": {},
   "outputs": [
    {
     "ename": "TypeError",
     "evalue": "'builtin_function_or_method' object is not subscriptable",
     "traceback": [
      "\u001b[1;31m---------------------------------------------------------------------------\u001b[0m",
      "\u001b[1;31mTypeError\u001b[0m                                 Traceback (most recent call last)",
      "\u001b[1;32m<ipython-input-175-f16feb6520b5>\u001b[0m in \u001b[0;36m<module>\u001b[1;34m()\u001b[0m\n\u001b[0;32m      1\u001b[0m \u001b[0mn\u001b[0m \u001b[1;33m=\u001b[0m \u001b[1;33m[\u001b[0m\u001b[1;34m'no surfacing'\u001b[0m\u001b[1;33m,\u001b[0m \u001b[1;34m'flippers'\u001b[0m\u001b[1;33m]\u001b[0m\u001b[1;33m\u001b[0m\u001b[0m\n\u001b[1;32m----> 2\u001b[1;33m \u001b[0mn\u001b[0m\u001b[1;33m.\u001b[0m\u001b[0mindex\u001b[0m\u001b[1;33m[\u001b[0m\u001b[1;34m'flippers'\u001b[0m\u001b[1;33m]\u001b[0m\u001b[1;33m\u001b[0m\u001b[0m\n\u001b[0m",
      "\u001b[1;31mTypeError\u001b[0m: 'builtin_function_or_method' object is not subscriptable"
     ],
     "output_type": "error"
    }
   ],
   "source": []
  },
  {
   "cell_type": "code",
   "execution_count": null,
   "metadata": {
    "collapsed": true
   },
   "outputs": [],
   "source": []
  }
 ],
 "metadata": {
  "kernelspec": {
   "display_name": "Python 3",
   "language": "python",
   "name": "python3"
  },
  "language_info": {
   "codemirror_mode": {
    "name": "ipython",
    "version": 3
   },
   "file_extension": ".py",
   "mimetype": "text/x-python",
   "name": "python",
   "nbconvert_exporter": "python",
   "pygments_lexer": "ipython3",
   "version": "3.6.1"
  }
 },
 "nbformat": 4,
 "nbformat_minor": 2
}
