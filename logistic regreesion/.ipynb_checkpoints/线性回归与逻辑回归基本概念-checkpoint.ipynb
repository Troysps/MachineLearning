{
 "cells": [
  {
   "cell_type": "markdown",
   "metadata": {},
   "source": [
    "# the threoy of logistics regreesion"
   ]
  },
  {
   "cell_type": "markdown",
   "metadata": {},
   "source": [
    "## 概念"
   ]
  },
  {
   "cell_type": "markdown",
   "metadata": {},
   "source": [
    "### 1. 集中趋势衡量"
   ]
  },
  {
   "cell_type": "markdown",
   "metadata": {},
   "source": [
    "* 均值\n",
    "* 中位数\n",
    "* 众数\n"
   ]
  },
  {
   "cell_type": "markdown",
   "metadata": {},
   "source": [
    "### 2. 离散程度度量"
   ]
  },
  {
   "cell_type": "markdown",
   "metadata": {},
   "source": [
    "* 方差\n",
    "* 标准差"
   ]
  },
  {
   "cell_type": "markdown",
   "metadata": {},
   "source": [
    "### 3.  回归中的相关度"
   ]
  },
  {
   "cell_type": "markdown",
   "metadata": {},
   "source": [
    "* 皮尔逊相关度:衡量两个相关强度的量 取值范围为[-1, 1] 计算公式为:\n",
    "* $\\rho = Cor(X, Y) = \\frac {Cov(X,Y)}{\\sqrt{Var(X)Var(Y)}}$\n",
    "* $r_{X, Y} = \\frac{\\sum(x-\\bar x)(y-\\bar y)}{\\sqrt{\\sum(x-\\bar x)^2(y-\\bar y)^2}}$\n",
    "* 分子为x,y的协方差 分母为x的方差和y的方差"
   ]
  },
  {
   "cell_type": "markdown",
   "metadata": {},
   "source": [
    "### R的平方数"
   ]
  },
  {
   "cell_type": "markdown",
   "metadata": {},
   "source": [
    "* 决定系数（可决系数，拟合优度），反应因变量的全部变异能通过回归关系被自变量解释的比例，取值范围[0,1]，可决系数越大，说明在总变差中由模型作出了解释的部分占的比重越大，模型拟合优度越好。反之可决系数小，说明模型对样本观测值的拟合程度越差。\n",
    "* 描述：如R平方为0.8，则表示回归关系可以解释因变量80%的变异，换句话说，如果我们能控制自变量不变，则因变量变异程度将会减少80%\n",
    "* 对于 简单线性回归来说，R^2= r * r\n",
    "* $R^2 = \\frac{SSR}{SST} = \\frac{\\sum(\\hat{y} - \\bar y)^2}{\\sum(y_i - \\bar y)^2}$\n",
    "#### SSR表示由模型引起的误差平方和， SST表示由实际值引起的差值平方和"
   ]
  },
  {
   "cell_type": "code",
   "execution_count": 12,
   "metadata": {},
   "outputs": [
    {
     "name": "stdout",
     "output_type": "stream",
     "text": [
      "correlation: 1.322657658\n",
      "polyfit: {'polynomial': [2.65677966101695, 5.322033898305075], 'determination': 0.88418304005181969}\n",
      "0.884183040052\n"
     ]
    }
   ],
   "source": [
    "import math\n",
    "import numpy as np\n",
    "\n",
    "def correlation(x, y):\n",
    "    barX = np.mean(x)\n",
    "    barY = np.mean(y)\n",
    "    cor = 0\n",
    "    varX = 0\n",
    "    VarY = 0\n",
    "    for i in range(len(x)):\n",
    "        diffxx = x[i] - barX\n",
    "        diffyy = y[i] - barY\n",
    "        cor += (diffxx * diffyy)\n",
    "        varX += diffxx**2\n",
    "        varY = diffyy**2\n",
    "    varXY = math.sqrt(varX * varY)\n",
    "    return cor / varXY\n",
    "\n",
    "def polyfit(x, y , degree):\n",
    "    result = {}\n",
    "    coeffs = np.polyfit(x, y, degree)\n",
    "    result['polynomial'] = coeffs.tolist()\n",
    "    parse = np.poly1d(coeffs)\n",
    "    yhat = parse(x)\n",
    "    ybar = np.sum(y) / len(y)\n",
    "    ssr = np.sum((yhat - ybar) ** 2)\n",
    "    sst = np.sum((y- ybar) **2 )\n",
    "    result['determination'] = ssr / sst\n",
    "    return result\n",
    "testX = [1, 3, 8, 7, 9]\n",
    "testY = [10, 12, 24, 21, 34]\n",
    "print('correlation:', correlation(testX, testY))\n",
    "print('polyfit:', polyfit(testX, testY, 1))\n",
    "print(polyfit(testX, testY, 1)[\"determination\"])"
   ]
  },
  {
   "cell_type": "code",
   "execution_count": 7,
   "metadata": {},
   "outputs": [
    {
     "name": "stdout",
     "output_type": "stream",
     "text": [
      "[ -9.24538084e-04   3.76792011e-02  -5.54639386e-01   3.60545597e+00\n",
      "   1.03629808e+00]\n",
      "            4           3          2\n",
      "-0.0009245 x + 0.03768 x - 0.5546 x + 3.605 x + 1.036\n"
     ]
    }
   ],
   "source": [
    "import numpy as np\n",
    "#多项式拟合(从给定的x,y中解析出最接近数据的方程式)\n",
    "#要拟合的x,y数据\n",
    "x = np.arange(1, 17, 1)\n",
    "y = np.array([4.00, 6.40, 8.00, 8.80, 9.22, 9.50, 9.70, 9.86, 10.00, 10.20, 10.32, 10.42, 10.50, 10.55, 10.58, 10.60])\n",
    "z1 = np.polyfit(x, y, 4)#3为多项式最高次幂，结果为多项式的各个系数\n",
    "#最高次幂3，得到4个系数,从高次到低次排列\n",
    "#最高次幂取几要视情况而定\n",
    "p1 = np.poly1d(z1)#将系数代入方程，得到函式p1\n",
    "print(z1)#多项式系数\n",
    "print(p1)#多项式方程\n",
    "\n",
    "# "
   ]
  },
  {
   "cell_type": "markdown",
   "metadata": {},
   "source": [
    "## 简单线性回归"
   ]
  },
  {
   "cell_type": "markdown",
   "metadata": {},
   "source": [
    "### 1. 回归与分类的区别"
   ]
  },
  {
   "cell_type": "markdown",
   "metadata": {},
   "source": [
    "* 回归(regression):Y为连续型数值,如房价、降雨、人数\n",
    "* 分类(classification):Y为类别型数值,如颜色 电脑品牌 有无信誉"
   ]
  },
  {
   "cell_type": "markdown",
   "metadata": {},
   "source": [
    "### 2. 简单线性回归介绍"
   ]
  },
  {
   "cell_type": "markdown",
   "metadata": {},
   "source": [
    "#### 回归分析：指建立方程模拟两个或多个变量之间如何关联\n",
    "#### 回归模型：指被用来描述因变量（y）和自变量（x）及偏差（error）之间关系的方程\n",
    "#### 函数表示为： $ y = \\beta_0 + \\beta_1x + \\xi $"
   ]
  },
  {
   "cell_type": "markdown",
   "metadata": {},
   "source": [
    "#### 简单回归模型转变为：$E(x) = \\beta_0 + \\beta_1x$\n",
    "#### 即为回归方程（类似于一条直线，参数为斜率和y轴的交点）\n",
    "* 线性关系为:正相关，负相关， 无关\n",
    "* 估计线性方程为：$\\hat y = \\beta_0 + \\beta_1x$\n",
    "* $其中 \\beta_0是线性方程的纵截据  \\beta_1是估计线性方程的斜率 \\hat y是在自变量等于一个给定值的时候，y的估计值$"
   ]
  },
  {
   "cell_type": "markdown",
   "metadata": {},
   "source": [
    "##### 关于偏差的假定$\\xi$\n",
    "* 是一个均值为0的随机变量\n",
    "* 符合正态分布\n",
    "* 是独立分布的（非相依关系）"
   ]
  },
  {
   "cell_type": "markdown",
   "metadata": {},
   "source": [
    "#### 计算简单线性回归"
   ]
  },
  {
   "cell_type": "markdown",
   "metadata": {},
   "source": [
    "* 最小二乘法：是利用样本数据 通过使应变量的观测值$y_i$与应变量的预测值$\\hat y_i$之间的离差平方和达到最小的方法求得$b_0$和$b_1$的值"
   ]
  },
  {
   "cell_type": "markdown",
   "metadata": {},
   "source": [
    "#### 最小二乘法准则\n",
    "### $ min\\sum (y_i - \\hat y)^2$\n",
    "#### 式中 $y_1$对于第$i$次观测，应变量的观测值，$\\hat y$为对于第$i$次观测，应变量的预测值"
   ]
  },
  {
   "cell_type": "markdown",
   "metadata": {},
   "source": [
    "#### 估计的回归方程的斜率和y轴的截据"
   ]
  },
  {
   "cell_type": "markdown",
   "metadata": {},
   "source": [
    "#### $b_1 = \\frac{\\sum(x_i - \\bar x)(y_i - \\bar y)}{\\sum (x_i - \\bar x)^2}$\n",
    "#### $b_0 = \\bar y - b_i\\bar x$"
   ]
  },
  {
   "cell_type": "code",
   "execution_count": 17,
   "metadata": {},
   "outputs": [
    {
     "data": {
      "text/plain": [
       "40.0"
      ]
     },
     "execution_count": 17,
     "metadata": {},
     "output_type": "execute_result"
    }
   ],
   "source": [
    "# 实现估计线性回归方程\n",
    "import numpy as np\n",
    "\n",
    "#周广告播放数量\n",
    "x = [1,3,2,1,3]\n",
    "#周汽车销售数据\n",
    "y = [14,24,18,17,27]\n",
    "\n",
    "def fitSLR(x, y):\n",
    "    barX = np.mean(x)\n",
    "    barY = np.mean(y)\n",
    "    numerator = 0\n",
    "    denominator = 0\n",
    "    for i in range(len(x)):\n",
    "        numerator += (x[i] - barX) * (y[i] - barY)\n",
    "        denominator += (x[i] - barX)**2\n",
    "    b1 = numerator / denominator\n",
    "    b0 = barY - b1*barX\n",
    "    return b1, b0\n",
    "def predict(b1, b0, x):\n",
    "    return b0+b1*x\n",
    "b1, b0 = fitSLR(x, y)\n",
    "predict(b1, b0, x=6)"
   ]
  },
  {
   "cell_type": "markdown",
   "metadata": {},
   "source": [
    "## 线性回归和logistics回归完全不是一个概念"
   ]
  },
  {
   "cell_type": "markdown",
   "metadata": {},
   "source": [
    "logistics回归总结 http://blog.csdn.net/achuo/article/details/51160101 \n",
    "线性回归总结 http://www.bijishequ.com/detail/331680"
   ]
  },
  {
   "cell_type": "code",
   "execution_count": null,
   "metadata": {
    "collapsed": true
   },
   "outputs": [],
   "source": []
  }
 ],
 "metadata": {
  "kernelspec": {
   "display_name": "Python 3",
   "language": "python",
   "name": "python3"
  },
  "language_info": {
   "codemirror_mode": {
    "name": "ipython",
    "version": 3
   },
   "file_extension": ".py",
   "mimetype": "text/x-python",
   "name": "python",
   "nbconvert_exporter": "python",
   "pygments_lexer": "ipython3",
   "version": "3.6.1"
  }
 },
 "nbformat": 4,
 "nbformat_minor": 2
}
