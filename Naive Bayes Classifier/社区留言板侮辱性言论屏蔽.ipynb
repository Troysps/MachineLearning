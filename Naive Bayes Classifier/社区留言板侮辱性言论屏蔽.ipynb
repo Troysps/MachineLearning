{
 "cells": [
  {
   "cell_type": "code",
   "execution_count": 20,
   "metadata": {
    "collapsed": true
   },
   "outputs": [],
   "source": [
    "# !/usr/bin/env python3\n",
    "# -*- coding: utf-8 -*-\n",
    "\n",
    "\"\"\"\n",
    "Project: 屏蔽社区留言版的侮辱性留言\n",
    "Project Readme: 构建一个快速过滤器来屏蔽在线社区留言板上的侮辱性言论。\n",
    "如果某条留言使用了负面或者侮辱性的语言，那么就将该留言标识为内容不当。对\n",
    "此问题建立两个类别: 侮辱类和非侮辱类，使用 1 和 0 分别表示。\n",
    "\"\"\"\n",
    "import numpy as np\n",
    "import operator \n",
    "from math import log"
   ]
  },
  {
   "cell_type": "markdown",
   "metadata": {},
   "source": [
    "#### traning data"
   ]
  },
  {
   "cell_type": "code",
   "execution_count": 21,
   "metadata": {
    "collapsed": true
   },
   "outputs": [],
   "source": [
    "def loadDataSet():\n",
    "    \"\"\"\n",
    "    创建数据集\n",
    "    :return 单词列表postingList 所属类别classVec\n",
    "    \"\"\"\n",
    "    postingList = [['my', 'dog', 'has', 'flea', 'problems', 'help', 'please'], #[0,0,1,1,1......]\n",
    "                   ['maybe', 'not', 'take', 'him', 'to', 'dog', 'park', 'stupid'],\n",
    "                   ['my', 'dalmation', 'is', 'so', 'cute', 'I', 'love', 'him'],\n",
    "                   ['stop', 'posting', 'stupid', 'worthless', 'garbage'],\n",
    "                   ['mr', 'licks', 'ate', 'my', 'steak', 'how', 'to', 'stop', 'him'],\n",
    "                   ['quit', 'buying', 'worthless', 'dog', 'food', 'stupid']]\n",
    "    classVec = [0, 1, 0, 1, 0, 1]  # 1 is abusive, 0 not\n",
    "    return postingList, classVec"
   ]
  },
  {
   "cell_type": "markdown",
   "metadata": {},
   "source": [
    "#### 提取文档中所有词条并且去重\n",
    "#### 从文本中构建词向量"
   ]
  },
  {
   "cell_type": "code",
   "execution_count": 22,
   "metadata": {
    "collapsed": true
   },
   "outputs": [],
   "source": [
    "def creatVocablist(dataSet):\n",
    "    \"\"\"\n",
    "    获取所有词汇的集合\n",
    "    : param dataSet\n",
    "    : return 所有单词的集合\n",
    "    \"\"\"\n",
    "    vocabSet = set([])\n",
    "    for word in dataSet:\n",
    "        vocabSet = vocabSet | set(word)\n",
    "    return list(vocabSet)\n",
    "postingList, classVec = loadDataSet()\n",
    "\n",
    "vocabSet = creatVocablist(postingList)"
   ]
  },
  {
   "cell_type": "markdown",
   "metadata": {},
   "source": [
    "#### 构建词向量 一维"
   ]
  },
  {
   "cell_type": "code",
   "execution_count": 23,
   "metadata": {
    "collapsed": true
   },
   "outputs": [],
   "source": [
    "def setOfWords2Vec(vocabList, inputData):\n",
    "    \"\"\"\n",
    "    变量查看该单词是否出现,若是出现则将该单词置1\n",
    "    :param vocabList 单词表\n",
    "    :param inputSet 输入数据集\n",
    "    :return 返回列表形式的一维数据 [0,1,0,1...]，其中 1与0 表示词汇表中的单词是否出现在输入的数据集中\n",
    "    \"\"\"\n",
    "    n = len(vocabSet)\n",
    "    returnVec = np.zeros(n)\n",
    "    for word in inputData:\n",
    "        if word in vocabSet:\n",
    "            returnVec[vocabSet.index(word)] = 1\n",
    "    return returnVec"
   ]
  },
  {
   "cell_type": "markdown",
   "metadata": {},
   "source": [
    "#### 将postingList 转化为矩阵数据 数据中只包含0或1\n",
    "#### 编写朴素贝叶斯分类器训练函数"
   ]
  },
  {
   "cell_type": "code",
   "execution_count": 24,
   "metadata": {},
   "outputs": [
    {
     "data": {
      "text/plain": [
       "6"
      ]
     },
     "execution_count": 24,
     "metadata": {},
     "output_type": "execute_result"
    }
   ],
   "source": [
    "trainMatriX = []\n",
    "for dataSet in postingList:\n",
    "    trainMatriX.append(setOfWords2Vec(vocabSet, dataSet))\n",
    "len(trainMatriX)\n",
    "len(classVec)\n"
   ]
  },
  {
   "cell_type": "markdown",
   "metadata": {},
   "source": [
    "### 朴素贝叶斯分类器训练函数 基本原理"
   ]
  },
  {
   "cell_type": "markdown",
   "metadata": {},
   "source": [
    "#### $p(c_i|w) = \\frac{p(w|c_i)p(c_i)}{p(w)}$\n",
    "#### $w表示向量 由多个值组成$\n",
    "#### 即核心问题：量化为在向量w发生时 属于$c_i$的概率比较问题\n",
    "#### 条件概率中 分母是一致的 因此不需要考虑吧\n",
    "#### 分母表示在属于类别$c_i$时发生，向量$w$发生的概率\n",
    "#### 这里假设所有词都互相独立，该假设也称作条件独立性假设（例如 A 和 B 两个人抛骰子，概率是互不影响的，也就是相互独立的，A 抛 2点的同时 B 抛 3 点的概率就是 1/6 * 1/6），它意味着可以使用 p(w0 | ci)p(w1 | ci)p(w2 | ci)...p(wn | ci) 来计算上述概率，这样就极大地简化了计算的过程。\n",
    "#### 问题量化：$在类别c_i发生时,w发生的可能性$\n",
    "#### 即：$属于侮辱性类别i时,向量w发生的可能性$\n",
    "#### 引入到向量 $在i类别时,每个单词出现的概率$"
   ]
  },
  {
   "cell_type": "code",
   "execution_count": 25,
   "metadata": {
    "collapsed": true
   },
   "outputs": [],
   "source": [
    "def _trainNB0(trainMatriX, classVec):\n",
    "    numDocuments = len(trainMatriX)\n",
    "    numWords = len(trainMatriX[0])\n",
    "    abuseRate = sum(classVec) / len(trainMatriX)\n",
    "    # 构建单词出现次数列表\n",
    "    p0Num = np.zeros(numWords)\n",
    "    p1Num = np.zeros(numWords)\n",
    "    # 类别i发生时 包含的数据集的单词总数\n",
    "    p0Denum = 0\n",
    "    p1Denum = 0\n",
    "    for i in range(numDocuments):\n",
    "        # 是否是侮辱性文件\n",
    "        if classVec[i] == 1:\n",
    "            # 如果是侮辱性文件，对侮辱性文件的向量进行加和\n",
    "            p1Num += trainMatriX[i]\n",
    "            # 对向量中的所有元素进行求和，也就是计算所有侮辱性文件中出现的单词总数\n",
    "            p1Denum += sum(trainMatriX[i])\n",
    "        else:\n",
    "            p0Num += trainMatriX[i]\n",
    "            p1Denum += sum(trainMatriX[i])\n",
    "            \n",
    "    # 类别1下单词发生的概率\n",
    "    p1Vect = p1Num / p1Denum\n",
    "    # 类别0\n",
    "    p0Vect = p0Num / p0Denum\n",
    "    \n",
    "    return abuseRate, p1Vect, p0Vect  "
   ]
  },
  {
   "cell_type": "markdown",
   "metadata": {},
   "source": [
    "#### 根据实际情况修改Naive Bayes classifier"
   ]
  },
  {
   "cell_type": "code",
   "execution_count": 26,
   "metadata": {
    "collapsed": true
   },
   "outputs": [],
   "source": [
    "def trainNB0(trainMatriX, classVec):\n",
    "    numDocu = len(trainMatriX)\n",
    "    numWords = len(trainMatriX[0])\n",
    "    abuseRate = sum(classVec) / float(numWords)\n",
    "    # 构建单词出现次数列表\n",
    "    p0Num = np.ones(numWords)\n",
    "    p1Num = np.ones(numWords)\n",
    "    # 计算单词 在不同类别出现的总次数\n",
    "    p0Denum = 2.0\n",
    "    p1Denum = 2.0\n",
    "    \n",
    "    for i in range(numDocu):\n",
    "        if classVec[i] == 1:\n",
    "            p1Num += trainMatriX[i]\n",
    "            p1Denum += sum(trainMatriX[i])\n",
    "        else:\n",
    "            p0Num += trainMatriX[i]\n",
    "            p0Denum += sum(trainMatriX[i])\n",
    "            \n",
    "    p1Vect = np.log(p1Num / p1Denum)\n",
    "    p0Vect = np.log(p0Num/ p0Denum)\n",
    "    return abuseRate, p1Vect, p0Vect"
   ]
  },
  {
   "cell_type": "markdown",
   "metadata": {},
   "source": [
    "#### 在利用贝叶斯分类器对文档进行分类时，要计算多个概率的乘积以获得文档属于某个类别的概率，即计算 p(w0|1) * p(w1|1) * p(w2|1)。如果其中一个概率值为 0，那么最后的乘积也为 0。为降低这种影响，可以将所有词的出现数初始化为 1，并将分母初始化为 2 （取1 或 2 的目的主要是为了保证分子和分母不为0，大家可以根据业务需求进行更改）。"
   ]
  },
  {
   "cell_type": "markdown",
   "metadata": {},
   "source": [
    "#### 另一个遇到的问题是下溢出，这是由于太多很小的数相乘造成的。当计算乘积 p(w0|ci) * p(w1|ci) * p(w2|ci)... p(wn|ci) 时，由于大部分因子都非常小，所以程序会下溢出或者得到不正确的答案。（用 Python 尝试相乘许多很小的数，最后四舍五入后会得到 0）。一种解决办法是对乘积取自然对数。在代数中有 ln(a * b) = ln(a) + ln(b), 于是通过求对数可以避免下溢出或者浮点数舍入导致的错误。同时，采用自然对数进行处理不会有任何损失。"
   ]
  },
  {
   "cell_type": "markdown",
   "metadata": {},
   "source": [
    "#### 下图给出了函数 f(x) 与 ln(f(x)) 的曲线。可以看出，它们在相同区域内同时增加或者减少，并且在相同点上取到极值。它们的取值虽然不同，但不影响最终结果。"
   ]
  },
  {
   "attachments": {
    "image.png": {
     "image/png": "[encoded data removed]"
    }
   },
   "cell_type": "markdown",
   "metadata": {},
   "source": [
    "![image.png](attachment:image.png)"
   ]
  },
  {
   "cell_type": "markdown",
   "metadata": {},
   "source": [
    "#### 朴素贝叶斯分类函数"
   ]
  },
  {
   "cell_type": "code",
   "execution_count": 29,
   "metadata": {
    "collapsed": true
   },
   "outputs": [],
   "source": [
    "def classifyNB(vec2Classify, p0Vec, p1Vec, pClass1):\n",
    "    \"\"\"\n",
    "    使用算法：\n",
    "    # 将乘法转换为加法\n",
    "    乘法：P(C|F1F2...Fn) = P(F1F2...Fn|C)P(C)/P(F1F2...Fn)\n",
    "    加法：P(F1|C)*P(F2|C)....P(Fn|C)P(C) -> log(P(F1|C))+log(P(F2|C))+....+log(P(Fn|C))+log(P(C))\n",
    "    :param vec2Classify: 待测数据[0,1,1,1,1...]，即要分类的向量\n",
    "    :param p0Vec: 类别0，即正常文档的[log(P(F1|C0)),log(P(F2|C0)),log(P(F3|C0)),log(P(F4|C0)),log(P(F5|C0))....]列表\n",
    "    :param p1Vec: 类别1，即侮辱性文档的[log(P(F1|C1)),log(P(F2|C1)),log(P(F3|C1)),log(P(F4|C1)),log(P(F5|C1))....]列表\n",
    "    :param pClass1: 类别1，侮辱性文件的出现概率\n",
    "    :return: 类别1 or 0\n",
    "    \"\"\"\n",
    "    # 计算公式  log(P(F1|C))+log(P(F2|C))+....+log(P(Fn|C))+log(P(C))\n",
    "    # 大家可能会发现，上面的计算公式，没有除以贝叶斯准则的公式的分母，也就是 P(w) （P(w) 指的是此文档在所有的文档中出现的概率）就进行概率大小的比较了，\n",
    "    # 因为 P(w) 针对的是包含侮辱和非侮辱的全部文档，所以 P(w) 是相同的。\n",
    "    # 使用 NumPy 数组来计算两个向量相乘的结果，这里的相乘是指对应元素相乘，即先将两个向量中的第一个元素相乘，然后将第2个元素相乘，以此类推。\n",
    "    # 我的理解是：这里的 vec2Classify * p1Vec 的意思就是将每个词与其对应的概率相关联起来\n",
    "    p1 = sum(vec2Classify * p1Vec) + log(pClass1)\n",
    "    print(log(pClass1))\n",
    "    p0 = sum(vec2Classify * p0Vec) + log(1- pClass1)\n",
    "    print(p1, p0)\n",
    "    if p1 > p0:\n",
    "        return 1\n",
    "    else:\n",
    "        return 0"
   ]
  },
  {
   "cell_type": "markdown",
   "metadata": {},
   "source": [
    "#### 测试朴素贝叶斯算法"
   ]
  },
  {
   "cell_type": "code",
   "execution_count": 30,
   "metadata": {},
   "outputs": [
    {
     "name": "stdout",
     "output_type": "stream",
     "text": [
      "-2.367123614131617\n",
      "-11.5006909273 -7.10014096464\n",
      "['love', 'my', 'dalmation'] classified as:  0\n",
      "-2.367123614131617\n",
      "-6.3767269479 -6.61463314886\n",
      "['stupid', 'garbage'] classified as:  1\n"
     ]
    }
   ],
   "source": [
    "def testingNB():\n",
    "    \"\"\"\n",
    "    测试朴素贝叶斯算法\n",
    "    \"\"\"\n",
    "    # 1. 加载数据集\n",
    "    listOPosts, listClasses = loadDataSet()\n",
    "    # 2. 创建单词集合\n",
    "    myVocabList = creatVocablist(listOPosts)\n",
    "    # 3. 计算单词是否出现并创建数据矩阵\n",
    "    trainMat = []\n",
    "    for postinDoc in listOPosts:\n",
    "        # 返回m*len(myVocabList)的矩阵， 记录的都是0，1信息\n",
    "        trainMat.append(setOfWords2Vec(myVocabList, postinDoc))\n",
    "    # 4. 训练数据\n",
    "    pAb, p1V, p0V = trainNB0(np.array(trainMat), np.array(listClasses))\n",
    "    # 5. 测试数据\n",
    "    testEntry = ['love', 'my', 'dalmation']\n",
    "    thisDoc = np.array(setOfWords2Vec(myVocabList, testEntry))\n",
    "    print(testEntry, 'classified as: ', classifyNB(thisDoc, p0V, p1V, pAb))\n",
    "    testEntry = ['stupid', 'garbage']\n",
    "    thisDoc = np.array(setOfWords2Vec(myVocabList, testEntry))\n",
    "    print(testEntry, 'classified as: ', classifyNB(thisDoc, p0V, p1V, pAb))\n",
    "    \n",
    "if __name__ == '__main__':\n",
    "    testingNB()"
   ]
  },
  {
   "cell_type": "code",
   "execution_count": null,
   "metadata": {
    "collapsed": true
   },
   "outputs": [],
   "source": []
  },
  {
   "cell_type": "code",
   "execution_count": null,
   "metadata": {
    "collapsed": true
   },
   "outputs": [],
   "source": []
  }
 ],
 "metadata": {
  "kernelspec": {
   "display_name": "Python 3",
   "language": "python",
   "name": "python3"
  },
  "language_info": {
   "codemirror_mode": {
    "name": "ipython",
    "version": 3
   },
   "file_extension": ".py",
   "mimetype": "text/x-python",
   "name": "python",
   "nbconvert_exporter": "python",
   "pygments_lexer": "ipython3",
   "version": "3.6.1"
  }
 },
 "nbformat": 4,
 "nbformat_minor": 2
}
